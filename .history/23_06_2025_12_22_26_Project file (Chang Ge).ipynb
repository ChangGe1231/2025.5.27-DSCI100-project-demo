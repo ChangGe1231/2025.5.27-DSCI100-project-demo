{
 "cells": [
  {
   "cell_type": "code",
   "execution_count": null,
   "id": "71737e77-79f6-4090-849c-cd0df8933bf6",
   "metadata": {},
   "outputs": [],
   "source": [
    "#load libraries\n",
    "library(tidyverse)\n",
    "library(dplyr)\n",
    "library(ggplot2)"
   ]
  },
  {
   "cell_type": "code",
   "execution_count": null,
   "id": "82e98d28-3b08-4d67-90f1-0943120439a5",
   "metadata": {},
   "outputs": [],
   "source": [
    "#read in data\n",
    "players <- read_csv(\"project_data/players.csv\")\n",
    "sessions <- read_csv(\"project_data/sessions.csv\")"
   ]
  },
  {
   "cell_type": "code",
   "execution_count": null,
   "id": "bbf93fd3-8a91-46ee-80b7-e0e3d988d21d",
   "metadata": {},
   "outputs": [],
   "source": [
    "# Inspect structure and variables\n",
    "glimpse(players)\n",
    "glimpse(sessions)"
   ]
  },
  {
   "cell_type": "code",
   "execution_count": null,
   "id": "d606005b-cb6c-41cb-ab0d-da14e806d6bf",
   "metadata": {},
   "outputs": [],
   "source": [
    "library(lubridate)\n",
    "# Add a column for session duration (in minutes) for each session\n",
    "# - Converts start_time and end_time to date-time format\n",
    "# - Calculates the difference in minutes between end and start\n",
    "\n",
    "sessions <- sessions |>\n",
    "  mutate(\n",
    "    start_time = ymd_hms(start_time), # Convert start_time to date-time\n",
    "    end_time = ymd_hms(end_time),     # Convert end_time to date-time\n",
    "    session_length = as.numeric(difftime(end_time, start_time, units = \"mins\"))\n",
    "  )"
   ]
  },
  {
   "cell_type": "code",
   "execution_count": null,
   "id": "f10b81e3-4648-40c0-9b50-4b83b90cdfd4",
   "metadata": {},
   "outputs": [],
   "source": [
    "# Summarize each player's session activity:\n",
    "# - total_sessions: total number of sessions for each player\n",
    "# - total_playtime: total minutes played for each player\n",
    "# - avg_session_length: average session length (in minutes) for each player\n",
    "\n",
    "player_summary <- sessions |>\n",
    "  group_by(hashedEmail) |>\n",
    "  summarise(\n",
    "    total_sessions = n(),\n",
    "    total_playtime = sum(session_length, na.rm = TRUE),\n",
    "    avg_session_length = mean(session_length, na.rm = TRUE)\n",
    "  )\n",
    "# Get summary statistics for the new player_summary table\n",
    "player_summary |>\n",
    "  slice_head(n = 5)"
   ]
  },
  {
   "cell_type": "code",
   "execution_count": null,
   "id": "610616c8-fe71-4769-a1e5-9a89a1da1bcb",
   "metadata": {},
   "outputs": [],
   "source": []
  }
 ],
 "metadata": {
  "kernelspec": {
   "display_name": "R",
   "language": "R",
   "name": "ir"
  },
  "language_info": {
   "codemirror_mode": "r",
   "file_extension": ".r",
   "mimetype": "text/x-r-source",
   "name": "R",
   "pygments_lexer": "r",
   "version": "4.3.3"
  }
 },
 "nbformat": 4,
 "nbformat_minor": 5
}
