{
 "cells": [
  {
   "cell_type": "code",
   "execution_count": null,
   "id": "71737e77-79f6-4090-849c-cd0df8933bf6",
   "metadata": {},
   "outputs": [],
   "source": [
    "#load libraries\n",
    "library(tidyverse)\n",
    "library(dplyr)\n",
    "library(ggplot2)"
   ]
  },
  {
   "cell_type": "code",
   "execution_count": null,
   "id": "82e98d28-3b08-4d67-90f1-0943120439a5",
   "metadata": {},
   "outputs": [],
   "source": [
    "#read in data\n",
    "players <- read_csv(\"project_data/players.csv\")\n",
    "sessions <- read_csv(\"project_data/sessions.csv\")"
   ]
  },
  {
   "cell_type": "code",
   "execution_count": null,
   "id": "bbf93fd3-8a91-46ee-80b7-e0e3d988d21d",
   "metadata": {},
   "outputs": [],
   "source": [
    "# Inspect structure and variables\n",
    "glimpse(players)\n",
    "glimpse(sessions)"
   ]
  }
 ],
 "metadata": {
  "kernelspec": {
   "display_name": "R",
   "language": "R",
   "name": "ir"
  },
  "language_info": {
   "codemirror_mode": "r",
   "file_extension": ".r",
   "mimetype": "text/x-r-source",
   "name": "R",
   "pygments_lexer": "r",
   "version": "4.3.3"
  }
 },
 "nbformat": 4,
 "nbformat_minor": 5
}
