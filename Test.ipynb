{
 "cells": [
  {
   "cell_type": "markdown",
   "id": "741a25a9-f5ed-49d3-a064-b15532526449",
   "metadata": {},
   "source": [
    "hello section"
   ]
  }
 ],
 "metadata": {
  "kernelspec": {
   "display_name": "R",
   "language": "R",
   "name": "ir"
  },
  "language_info": {
   "codemirror_mode": "r",
   "file_extension": ".r",
   "mimetype": "text/x-r-source",
   "name": "R",
   "pygments_lexer": "r",
   "version": "4.3.3"
  }
 },
 "nbformat": 4,
 "nbformat_minor": 5
}
