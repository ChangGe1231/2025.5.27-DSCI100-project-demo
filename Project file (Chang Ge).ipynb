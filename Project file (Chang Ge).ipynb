{
 "cells": [
  {
   "cell_type": "code",
   "execution_count": 1,
   "id": "71737e77-79f6-4090-849c-cd0df8933bf6",
   "metadata": {},
   "outputs": [
    {
     "name": "stderr",
     "output_type": "stream",
     "text": [
      "── \u001b[1mAttaching core tidyverse packages\u001b[22m ──────────────────────── tidyverse 2.0.0 ──\n",
      "\u001b[32m✔\u001b[39m \u001b[34mdplyr    \u001b[39m 1.1.4     \u001b[32m✔\u001b[39m \u001b[34mreadr    \u001b[39m 2.1.5\n",
      "\u001b[32m✔\u001b[39m \u001b[34mforcats  \u001b[39m 1.0.0     \u001b[32m✔\u001b[39m \u001b[34mstringr  \u001b[39m 1.5.1\n",
      "\u001b[32m✔\u001b[39m \u001b[34mggplot2  \u001b[39m 3.5.1     \u001b[32m✔\u001b[39m \u001b[34mtibble   \u001b[39m 3.2.1\n",
      "\u001b[32m✔\u001b[39m \u001b[34mlubridate\u001b[39m 1.9.3     \u001b[32m✔\u001b[39m \u001b[34mtidyr    \u001b[39m 1.3.1\n",
      "\u001b[32m✔\u001b[39m \u001b[34mpurrr    \u001b[39m 1.0.2     \n",
      "── \u001b[1mConflicts\u001b[22m ────────────────────────────────────────── tidyverse_conflicts() ──\n",
      "\u001b[31m✖\u001b[39m \u001b[34mdplyr\u001b[39m::\u001b[32mfilter()\u001b[39m masks \u001b[34mstats\u001b[39m::filter()\n",
      "\u001b[31m✖\u001b[39m \u001b[34mdplyr\u001b[39m::\u001b[32mlag()\u001b[39m    masks \u001b[34mstats\u001b[39m::lag()\n",
      "\u001b[36mℹ\u001b[39m Use the conflicted package (\u001b[3m\u001b[34m<http://conflicted.r-lib.org/>\u001b[39m\u001b[23m) to force all conflicts to become errors\n"
     ]
    }
   ],
   "source": [
    "#load libraries\n",
    "library(tidyverse)\n",
    "library(dplyr)\n",
    "library(lubridate)\n",
    "library(ggplot2)"
   ]
  },
  {
   "cell_type": "code",
   "execution_count": 2,
   "id": "82e98d28-3b08-4d67-90f1-0943120439a5",
   "metadata": {},
   "outputs": [
    {
     "name": "stderr",
     "output_type": "stream",
     "text": [
      "\u001b[1mRows: \u001b[22m\u001b[34m196\u001b[39m \u001b[1mColumns: \u001b[22m\u001b[34m7\u001b[39m\n",
      "\u001b[36m──\u001b[39m \u001b[1mColumn specification\u001b[22m \u001b[36m────────────────────────────────────────────────────────\u001b[39m\n",
      "\u001b[1mDelimiter:\u001b[22m \",\"\n",
      "\u001b[31mchr\u001b[39m (4): experience, hashedEmail, name, gender\n",
      "\u001b[32mdbl\u001b[39m (2): played_hours, Age\n",
      "\u001b[33mlgl\u001b[39m (1): subscribe\n",
      "\n",
      "\u001b[36mℹ\u001b[39m Use `spec()` to retrieve the full column specification for this data.\n",
      "\u001b[36mℹ\u001b[39m Specify the column types or set `show_col_types = FALSE` to quiet this message.\n",
      "\u001b[1mRows: \u001b[22m\u001b[34m1535\u001b[39m \u001b[1mColumns: \u001b[22m\u001b[34m5\u001b[39m\n",
      "\u001b[36m──\u001b[39m \u001b[1mColumn specification\u001b[22m \u001b[36m────────────────────────────────────────────────────────\u001b[39m\n",
      "\u001b[1mDelimiter:\u001b[22m \",\"\n",
      "\u001b[31mchr\u001b[39m (3): hashedEmail, start_time, end_time\n",
      "\u001b[32mdbl\u001b[39m (2): original_start_time, original_end_time\n",
      "\n",
      "\u001b[36mℹ\u001b[39m Use `spec()` to retrieve the full column specification for this data.\n",
      "\u001b[36mℹ\u001b[39m Specify the column types or set `show_col_types = FALSE` to quiet this message.\n"
     ]
    }
   ],
   "source": [
    "#read in data\n",
    "players <- read_csv(\"project_data/players.csv\")\n",
    "sessions <- read_csv(\"project_data/sessions.csv\")"
   ]
  },
  {
   "cell_type": "code",
   "execution_count": 4,
   "id": "d606005b-cb6c-41cb-ab0d-da14e806d6bf",
   "metadata": {},
   "outputs": [
    {
     "data": {
      "text/html": [
       "<table class=\"dataframe\">\n",
       "<caption>A tibble: 5 × 4</caption>\n",
       "<thead>\n",
       "\t<tr><th scope=col>hashedEmail</th><th scope=col>total_sessions</th><th scope=col>total_playtime</th><th scope=col>avg_session_length</th></tr>\n",
       "\t<tr><th scope=col>&lt;chr&gt;</th><th scope=col>&lt;int&gt;</th><th scope=col>&lt;dbl&gt;</th><th scope=col>&lt;dbl&gt;</th></tr>\n",
       "</thead>\n",
       "<tbody>\n",
       "\t<tr><td>0088b5e134c3f0498a18c7ea6b8d77b4b0ff1636fc93355ccc95b45423367832</td><td> 2</td><td>5.255778e+05</td><td>2.627889e+05</td></tr>\n",
       "\t<tr><td>060aca80f8cfbf1c91553a72f4d5ec8034764b05ab59fe8e1cf0eee9a7b67967</td><td> 1</td><td>5.000000e-01</td><td>5.000000e-01</td></tr>\n",
       "\t<tr><td>0ce7bfa910d47fc91f21a7b3acd8f33bde6db57912ce0290fa0437ce0b97f387</td><td> 1</td><td>1.833333e-01</td><td>1.833333e-01</td></tr>\n",
       "\t<tr><td>0d4d71be33e2bc7266ee4983002bd930f69d304288a8663529c875f40f1750f3</td><td>13</td><td>6.966667e+00</td><td>5.358974e-01</td></tr>\n",
       "\t<tr><td>0d70dd9cac34d646c810b1846fe6a85b9e288a76f5dcab9c1ff1a0e7ca200b3a</td><td> 2</td><td>1.166667e+00</td><td>5.833333e-01</td></tr>\n",
       "</tbody>\n",
       "</table>\n"
      ],
      "text/latex": [
       "A tibble: 5 × 4\n",
       "\\begin{tabular}{llll}\n",
       " hashedEmail & total\\_sessions & total\\_playtime & avg\\_session\\_length\\\\\n",
       " <chr> & <int> & <dbl> & <dbl>\\\\\n",
       "\\hline\n",
       "\t 0088b5e134c3f0498a18c7ea6b8d77b4b0ff1636fc93355ccc95b45423367832 &  2 & 5.255778e+05 & 2.627889e+05\\\\\n",
       "\t 060aca80f8cfbf1c91553a72f4d5ec8034764b05ab59fe8e1cf0eee9a7b67967 &  1 & 5.000000e-01 & 5.000000e-01\\\\\n",
       "\t 0ce7bfa910d47fc91f21a7b3acd8f33bde6db57912ce0290fa0437ce0b97f387 &  1 & 1.833333e-01 & 1.833333e-01\\\\\n",
       "\t 0d4d71be33e2bc7266ee4983002bd930f69d304288a8663529c875f40f1750f3 & 13 & 6.966667e+00 & 5.358974e-01\\\\\n",
       "\t 0d70dd9cac34d646c810b1846fe6a85b9e288a76f5dcab9c1ff1a0e7ca200b3a &  2 & 1.166667e+00 & 5.833333e-01\\\\\n",
       "\\end{tabular}\n"
      ],
      "text/markdown": [
       "\n",
       "A tibble: 5 × 4\n",
       "\n",
       "| hashedEmail &lt;chr&gt; | total_sessions &lt;int&gt; | total_playtime &lt;dbl&gt; | avg_session_length &lt;dbl&gt; |\n",
       "|---|---|---|---|\n",
       "| 0088b5e134c3f0498a18c7ea6b8d77b4b0ff1636fc93355ccc95b45423367832 |  2 | 5.255778e+05 | 2.627889e+05 |\n",
       "| 060aca80f8cfbf1c91553a72f4d5ec8034764b05ab59fe8e1cf0eee9a7b67967 |  1 | 5.000000e-01 | 5.000000e-01 |\n",
       "| 0ce7bfa910d47fc91f21a7b3acd8f33bde6db57912ce0290fa0437ce0b97f387 |  1 | 1.833333e-01 | 1.833333e-01 |\n",
       "| 0d4d71be33e2bc7266ee4983002bd930f69d304288a8663529c875f40f1750f3 | 13 | 6.966667e+00 | 5.358974e-01 |\n",
       "| 0d70dd9cac34d646c810b1846fe6a85b9e288a76f5dcab9c1ff1a0e7ca200b3a |  2 | 1.166667e+00 | 5.833333e-01 |\n",
       "\n"
      ],
      "text/plain": [
       "  hashedEmail                                                     \n",
       "1 0088b5e134c3f0498a18c7ea6b8d77b4b0ff1636fc93355ccc95b45423367832\n",
       "2 060aca80f8cfbf1c91553a72f4d5ec8034764b05ab59fe8e1cf0eee9a7b67967\n",
       "3 0ce7bfa910d47fc91f21a7b3acd8f33bde6db57912ce0290fa0437ce0b97f387\n",
       "4 0d4d71be33e2bc7266ee4983002bd930f69d304288a8663529c875f40f1750f3\n",
       "5 0d70dd9cac34d646c810b1846fe6a85b9e288a76f5dcab9c1ff1a0e7ca200b3a\n",
       "  total_sessions total_playtime avg_session_length\n",
       "1  2             5.255778e+05   2.627889e+05      \n",
       "2  1             5.000000e-01   5.000000e-01      \n",
       "3  1             1.833333e-01   1.833333e-01      \n",
       "4 13             6.966667e+00   5.358974e-01      \n",
       "5  2             1.166667e+00   5.833333e-01      "
      ]
     },
     "metadata": {},
     "output_type": "display_data"
    }
   ],
   "source": [
    "# Create a session_length column in minutes\n",
    "sessions <- sessions |>\n",
    "  mutate(\n",
    "    start_time = ymd_hms(start_time),\n",
    "    end_time = ymd_hms(end_time),\n",
    "    session_length = as.numeric(difftime(end_time, start_time, units = \"mins\"))\n",
    "  )\n",
    "# Summarize for each player\n",
    "player_activity_summary <- sessions |>\n",
    "  group_by(hashedEmail) |>\n",
    "  summarise(\n",
    "    total_sessions = n(),\n",
    "    total_playtime = sum(session_length, na.rm = TRUE),\n",
    "    avg_session_length = mean(session_length, na.rm = TRUE)\n",
    "  )\n",
    "\n",
    "# Preview\n",
    "player_activity_summary |> slice_head(n = 5)"
   ]
  },
  {
   "cell_type": "code",
   "execution_count": 5,
   "id": "f10b81e3-4648-40c0-9b50-4b83b90cdfd4",
   "metadata": {},
   "outputs": [
    {
     "data": {
      "text/html": [
       "<table class=\"dataframe\">\n",
       "<caption>A spec_tbl_df: 5 × 10</caption>\n",
       "<thead>\n",
       "\t<tr><th scope=col>experience</th><th scope=col>subscribe</th><th scope=col>hashedEmail</th><th scope=col>played_hours</th><th scope=col>name</th><th scope=col>gender</th><th scope=col>Age</th><th scope=col>total_sessions</th><th scope=col>total_playtime</th><th scope=col>avg_session_length</th></tr>\n",
       "\t<tr><th scope=col>&lt;chr&gt;</th><th scope=col>&lt;lgl&gt;</th><th scope=col>&lt;chr&gt;</th><th scope=col>&lt;dbl&gt;</th><th scope=col>&lt;chr&gt;</th><th scope=col>&lt;chr&gt;</th><th scope=col>&lt;dbl&gt;</th><th scope=col>&lt;int&gt;</th><th scope=col>&lt;dbl&gt;</th><th scope=col>&lt;dbl&gt;</th></tr>\n",
       "</thead>\n",
       "<tbody>\n",
       "\t<tr><td>Pro    </td><td> TRUE</td><td>f6daba428a5e19a3d47574858c13550499be23603422e6a0ee9728f8b53e192d</td><td>30.3</td><td>Morgan   </td><td>Male  </td><td> 9</td><td>27</td><td>-1.310697e+07</td><td>-4.854432e+05</td></tr>\n",
       "\t<tr><td>Veteran</td><td> TRUE</td><td>f3c813577c458ba0dfef80996f8f32c93b6e8af1fa939732842f2312358a88e9</td><td> 3.8</td><td>Christian</td><td>Male  </td><td>17</td><td> 3</td><td> 4.250000e+00</td><td> 1.416667e+00</td></tr>\n",
       "\t<tr><td>Veteran</td><td>FALSE</td><td>b674dd7ee0d24096d1c019615ce4d12b20fcbff12d79d3c5a9d2118eb7ccbb28</td><td> 0.0</td><td>Blake    </td><td>Male  </td><td>17</td><td> 1</td><td> 8.333333e-02</td><td> 8.333333e-02</td></tr>\n",
       "\t<tr><td>Amateur</td><td> TRUE</td><td>23fe711e0e3b77f1da7aa221ab1192afe21648d47d2b4fa7a5a659ff443a0eb5</td><td> 0.7</td><td>Flora    </td><td>Female</td><td>21</td><td> 1</td><td> 8.333333e-01</td><td> 8.333333e-01</td></tr>\n",
       "\t<tr><td>Regular</td><td> TRUE</td><td>7dc01f10bf20671ecfccdac23812b1b415acd42c2147cb0af4d48fcce2420f3e</td><td> 0.1</td><td>Kylie    </td><td>Male  </td><td>21</td><td> 1</td><td> 1.500000e-01</td><td> 1.500000e-01</td></tr>\n",
       "</tbody>\n",
       "</table>\n"
      ],
      "text/latex": [
       "A spec\\_tbl\\_df: 5 × 10\n",
       "\\begin{tabular}{llllllllll}\n",
       " experience & subscribe & hashedEmail & played\\_hours & name & gender & Age & total\\_sessions & total\\_playtime & avg\\_session\\_length\\\\\n",
       " <chr> & <lgl> & <chr> & <dbl> & <chr> & <chr> & <dbl> & <int> & <dbl> & <dbl>\\\\\n",
       "\\hline\n",
       "\t Pro     &  TRUE & f6daba428a5e19a3d47574858c13550499be23603422e6a0ee9728f8b53e192d & 30.3 & Morgan    & Male   &  9 & 27 & -1.310697e+07 & -4.854432e+05\\\\\n",
       "\t Veteran &  TRUE & f3c813577c458ba0dfef80996f8f32c93b6e8af1fa939732842f2312358a88e9 &  3.8 & Christian & Male   & 17 &  3 &  4.250000e+00 &  1.416667e+00\\\\\n",
       "\t Veteran & FALSE & b674dd7ee0d24096d1c019615ce4d12b20fcbff12d79d3c5a9d2118eb7ccbb28 &  0.0 & Blake     & Male   & 17 &  1 &  8.333333e-02 &  8.333333e-02\\\\\n",
       "\t Amateur &  TRUE & 23fe711e0e3b77f1da7aa221ab1192afe21648d47d2b4fa7a5a659ff443a0eb5 &  0.7 & Flora     & Female & 21 &  1 &  8.333333e-01 &  8.333333e-01\\\\\n",
       "\t Regular &  TRUE & 7dc01f10bf20671ecfccdac23812b1b415acd42c2147cb0af4d48fcce2420f3e &  0.1 & Kylie     & Male   & 21 &  1 &  1.500000e-01 &  1.500000e-01\\\\\n",
       "\\end{tabular}\n"
      ],
      "text/markdown": [
       "\n",
       "A spec_tbl_df: 5 × 10\n",
       "\n",
       "| experience &lt;chr&gt; | subscribe &lt;lgl&gt; | hashedEmail &lt;chr&gt; | played_hours &lt;dbl&gt; | name &lt;chr&gt; | gender &lt;chr&gt; | Age &lt;dbl&gt; | total_sessions &lt;int&gt; | total_playtime &lt;dbl&gt; | avg_session_length &lt;dbl&gt; |\n",
       "|---|---|---|---|---|---|---|---|---|---|\n",
       "| Pro     |  TRUE | f6daba428a5e19a3d47574858c13550499be23603422e6a0ee9728f8b53e192d | 30.3 | Morgan    | Male   |  9 | 27 | -1.310697e+07 | -4.854432e+05 |\n",
       "| Veteran |  TRUE | f3c813577c458ba0dfef80996f8f32c93b6e8af1fa939732842f2312358a88e9 |  3.8 | Christian | Male   | 17 |  3 |  4.250000e+00 |  1.416667e+00 |\n",
       "| Veteran | FALSE | b674dd7ee0d24096d1c019615ce4d12b20fcbff12d79d3c5a9d2118eb7ccbb28 |  0.0 | Blake     | Male   | 17 |  1 |  8.333333e-02 |  8.333333e-02 |\n",
       "| Amateur |  TRUE | 23fe711e0e3b77f1da7aa221ab1192afe21648d47d2b4fa7a5a659ff443a0eb5 |  0.7 | Flora     | Female | 21 |  1 |  8.333333e-01 |  8.333333e-01 |\n",
       "| Regular |  TRUE | 7dc01f10bf20671ecfccdac23812b1b415acd42c2147cb0af4d48fcce2420f3e |  0.1 | Kylie     | Male   | 21 |  1 |  1.500000e-01 |  1.500000e-01 |\n",
       "\n"
      ],
      "text/plain": [
       "  experience subscribe\n",
       "1 Pro         TRUE    \n",
       "2 Veteran     TRUE    \n",
       "3 Veteran    FALSE    \n",
       "4 Amateur     TRUE    \n",
       "5 Regular     TRUE    \n",
       "  hashedEmail                                                      played_hours\n",
       "1 f6daba428a5e19a3d47574858c13550499be23603422e6a0ee9728f8b53e192d 30.3        \n",
       "2 f3c813577c458ba0dfef80996f8f32c93b6e8af1fa939732842f2312358a88e9  3.8        \n",
       "3 b674dd7ee0d24096d1c019615ce4d12b20fcbff12d79d3c5a9d2118eb7ccbb28  0.0        \n",
       "4 23fe711e0e3b77f1da7aa221ab1192afe21648d47d2b4fa7a5a659ff443a0eb5  0.7        \n",
       "5 7dc01f10bf20671ecfccdac23812b1b415acd42c2147cb0af4d48fcce2420f3e  0.1        \n",
       "  name      gender Age total_sessions total_playtime avg_session_length\n",
       "1 Morgan    Male    9  27             -1.310697e+07  -4.854432e+05     \n",
       "2 Christian Male   17   3              4.250000e+00   1.416667e+00     \n",
       "3 Blake     Male   17   1              8.333333e-02   8.333333e-02     \n",
       "4 Flora     Female 21   1              8.333333e-01   8.333333e-01     \n",
       "5 Kylie     Male   21   1              1.500000e-01   1.500000e-01     "
      ]
     },
     "metadata": {},
     "output_type": "display_data"
    }
   ],
   "source": [
    "player_profiles <- players |>\n",
    "  left_join(player_activity_summary, by = \"hashedEmail\")\n",
    "\n",
    "# Preview\n",
    "player_profiles |> \n",
    "    slice_head(n = 5)"
   ]
  },
  {
   "cell_type": "code",
   "execution_count": 32,
   "id": "610616c8-fe71-4769-a1e5-9a89a1da1bcb",
   "metadata": {},
   "outputs": [
    {
     "data": {
      "text/html": [
       "<table class=\"dataframe\">\n",
       "<caption>A spec_tbl_df: 5 × 10</caption>\n",
       "<thead>\n",
       "\t<tr><th scope=col>experience</th><th scope=col>subscribe</th><th scope=col>hashedEmail</th><th scope=col>played_hours</th><th scope=col>name</th><th scope=col>gender</th><th scope=col>Age</th><th scope=col>total_sessions</th><th scope=col>total_playtime</th><th scope=col>avg_session_length</th></tr>\n",
       "\t<tr><th scope=col>&lt;chr&gt;</th><th scope=col>&lt;lgl&gt;</th><th scope=col>&lt;chr&gt;</th><th scope=col>&lt;dbl&gt;</th><th scope=col>&lt;chr&gt;</th><th scope=col>&lt;chr&gt;</th><th scope=col>&lt;dbl&gt;</th><th scope=col>&lt;int&gt;</th><th scope=col>&lt;dbl&gt;</th><th scope=col>&lt;dbl&gt;</th></tr>\n",
       "</thead>\n",
       "<tbody>\n",
       "\t<tr><td>Pro    </td><td> TRUE</td><td>f6daba428a5e19a3d47574858c13550499be23603422e6a0ee9728f8b53e192d</td><td>30.3</td><td>Morgan   </td><td>Male  </td><td> 9</td><td>27</td><td>-1.310697e+07</td><td>-4.854432e+05</td></tr>\n",
       "\t<tr><td>Veteran</td><td> TRUE</td><td>f3c813577c458ba0dfef80996f8f32c93b6e8af1fa939732842f2312358a88e9</td><td> 3.8</td><td>Christian</td><td>Male  </td><td>17</td><td> 3</td><td> 4.250000e+00</td><td> 1.416667e+00</td></tr>\n",
       "\t<tr><td>Veteran</td><td>FALSE</td><td>b674dd7ee0d24096d1c019615ce4d12b20fcbff12d79d3c5a9d2118eb7ccbb28</td><td> 0.0</td><td>Blake    </td><td>Male  </td><td>17</td><td> 1</td><td> 8.333333e-02</td><td> 8.333333e-02</td></tr>\n",
       "\t<tr><td>Amateur</td><td> TRUE</td><td>23fe711e0e3b77f1da7aa221ab1192afe21648d47d2b4fa7a5a659ff443a0eb5</td><td> 0.7</td><td>Flora    </td><td>Female</td><td>21</td><td> 1</td><td> 8.333333e-01</td><td> 8.333333e-01</td></tr>\n",
       "\t<tr><td>Regular</td><td> TRUE</td><td>7dc01f10bf20671ecfccdac23812b1b415acd42c2147cb0af4d48fcce2420f3e</td><td> 0.1</td><td>Kylie    </td><td>Male  </td><td>21</td><td> 1</td><td> 1.500000e-01</td><td> 1.500000e-01</td></tr>\n",
       "</tbody>\n",
       "</table>\n"
      ],
      "text/latex": [
       "A spec\\_tbl\\_df: 5 × 10\n",
       "\\begin{tabular}{llllllllll}\n",
       " experience & subscribe & hashedEmail & played\\_hours & name & gender & Age & total\\_sessions & total\\_playtime & avg\\_session\\_length\\\\\n",
       " <chr> & <lgl> & <chr> & <dbl> & <chr> & <chr> & <dbl> & <int> & <dbl> & <dbl>\\\\\n",
       "\\hline\n",
       "\t Pro     &  TRUE & f6daba428a5e19a3d47574858c13550499be23603422e6a0ee9728f8b53e192d & 30.3 & Morgan    & Male   &  9 & 27 & -1.310697e+07 & -4.854432e+05\\\\\n",
       "\t Veteran &  TRUE & f3c813577c458ba0dfef80996f8f32c93b6e8af1fa939732842f2312358a88e9 &  3.8 & Christian & Male   & 17 &  3 &  4.250000e+00 &  1.416667e+00\\\\\n",
       "\t Veteran & FALSE & b674dd7ee0d24096d1c019615ce4d12b20fcbff12d79d3c5a9d2118eb7ccbb28 &  0.0 & Blake     & Male   & 17 &  1 &  8.333333e-02 &  8.333333e-02\\\\\n",
       "\t Amateur &  TRUE & 23fe711e0e3b77f1da7aa221ab1192afe21648d47d2b4fa7a5a659ff443a0eb5 &  0.7 & Flora     & Female & 21 &  1 &  8.333333e-01 &  8.333333e-01\\\\\n",
       "\t Regular &  TRUE & 7dc01f10bf20671ecfccdac23812b1b415acd42c2147cb0af4d48fcce2420f3e &  0.1 & Kylie     & Male   & 21 &  1 &  1.500000e-01 &  1.500000e-01\\\\\n",
       "\\end{tabular}\n"
      ],
      "text/markdown": [
       "\n",
       "A spec_tbl_df: 5 × 10\n",
       "\n",
       "| experience &lt;chr&gt; | subscribe &lt;lgl&gt; | hashedEmail &lt;chr&gt; | played_hours &lt;dbl&gt; | name &lt;chr&gt; | gender &lt;chr&gt; | Age &lt;dbl&gt; | total_sessions &lt;int&gt; | total_playtime &lt;dbl&gt; | avg_session_length &lt;dbl&gt; |\n",
       "|---|---|---|---|---|---|---|---|---|---|\n",
       "| Pro     |  TRUE | f6daba428a5e19a3d47574858c13550499be23603422e6a0ee9728f8b53e192d | 30.3 | Morgan    | Male   |  9 | 27 | -1.310697e+07 | -4.854432e+05 |\n",
       "| Veteran |  TRUE | f3c813577c458ba0dfef80996f8f32c93b6e8af1fa939732842f2312358a88e9 |  3.8 | Christian | Male   | 17 |  3 |  4.250000e+00 |  1.416667e+00 |\n",
       "| Veteran | FALSE | b674dd7ee0d24096d1c019615ce4d12b20fcbff12d79d3c5a9d2118eb7ccbb28 |  0.0 | Blake     | Male   | 17 |  1 |  8.333333e-02 |  8.333333e-02 |\n",
       "| Amateur |  TRUE | 23fe711e0e3b77f1da7aa221ab1192afe21648d47d2b4fa7a5a659ff443a0eb5 |  0.7 | Flora     | Female | 21 |  1 |  8.333333e-01 |  8.333333e-01 |\n",
       "| Regular |  TRUE | 7dc01f10bf20671ecfccdac23812b1b415acd42c2147cb0af4d48fcce2420f3e |  0.1 | Kylie     | Male   | 21 |  1 |  1.500000e-01 |  1.500000e-01 |\n",
       "\n"
      ],
      "text/plain": [
       "  experience subscribe\n",
       "1 Pro         TRUE    \n",
       "2 Veteran     TRUE    \n",
       "3 Veteran    FALSE    \n",
       "4 Amateur     TRUE    \n",
       "5 Regular     TRUE    \n",
       "  hashedEmail                                                      played_hours\n",
       "1 f6daba428a5e19a3d47574858c13550499be23603422e6a0ee9728f8b53e192d 30.3        \n",
       "2 f3c813577c458ba0dfef80996f8f32c93b6e8af1fa939732842f2312358a88e9  3.8        \n",
       "3 b674dd7ee0d24096d1c019615ce4d12b20fcbff12d79d3c5a9d2118eb7ccbb28  0.0        \n",
       "4 23fe711e0e3b77f1da7aa221ab1192afe21648d47d2b4fa7a5a659ff443a0eb5  0.7        \n",
       "5 7dc01f10bf20671ecfccdac23812b1b415acd42c2147cb0af4d48fcce2420f3e  0.1        \n",
       "  name      gender Age total_sessions total_playtime avg_session_length\n",
       "1 Morgan    Male    9  27             -1.310697e+07  -4.854432e+05     \n",
       "2 Christian Male   17   3              4.250000e+00   1.416667e+00     \n",
       "3 Blake     Male   17   1              8.333333e-02   8.333333e-02     \n",
       "4 Flora     Female 21   1              8.333333e-01   8.333333e-01     \n",
       "5 Kylie     Male   21   1              1.500000e-01   1.500000e-01     "
      ]
     },
     "metadata": {},
     "output_type": "display_data"
    }
   ],
   "source": [
    "players_with_activity <- players |>\n",
    "  left_join(player_summary, by = \"hashedEmail\")\n",
    "\n",
    "# Display the first 5 rows to check the joined data\n",
    "players_with_activity |>\n",
    "  slice_head(n = 5)"
   ]
  },
  {
   "cell_type": "code",
   "execution_count": 6,
   "id": "a3c0f541-fd83-4cf8-9533-2f69e047a29f",
   "metadata": {},
   "outputs": [
    {
     "data": {
      "text/html": [
       "<table class=\"dataframe\">\n",
       "<caption>A tibble: 5 × 3</caption>\n",
       "<thead>\n",
       "\t<tr><th scope=col>total_sessions</th><th scope=col>total_playtime</th><th scope=col>avg_session_length</th></tr>\n",
       "\t<tr><th scope=col>&lt;dbl&gt;</th><th scope=col>&lt;dbl&gt;</th><th scope=col>&lt;dbl&gt;</th></tr>\n",
       "</thead>\n",
       "<tbody>\n",
       "\t<tr><td> 0.3561844</td><td>-7.220635764</td><td>-6.59581791</td></tr>\n",
       "\t<tr><td>-0.2245511</td><td>-0.002835715</td><td>-0.09525277</td></tr>\n",
       "\t<tr><td>-0.2729457</td><td>-0.002838010</td><td>-0.09527062</td></tr>\n",
       "\t<tr><td>-0.2729457</td><td>-0.002837597</td><td>-0.09526058</td></tr>\n",
       "\t<tr><td>-0.2729457</td><td>-0.002837973</td><td>-0.09526973</td></tr>\n",
       "</tbody>\n",
       "</table>\n"
      ],
      "text/latex": [
       "A tibble: 5 × 3\n",
       "\\begin{tabular}{lll}\n",
       " total\\_sessions & total\\_playtime & avg\\_session\\_length\\\\\n",
       " <dbl> & <dbl> & <dbl>\\\\\n",
       "\\hline\n",
       "\t  0.3561844 & -7.220635764 & -6.59581791\\\\\n",
       "\t -0.2245511 & -0.002835715 & -0.09525277\\\\\n",
       "\t -0.2729457 & -0.002838010 & -0.09527062\\\\\n",
       "\t -0.2729457 & -0.002837597 & -0.09526058\\\\\n",
       "\t -0.2729457 & -0.002837973 & -0.09526973\\\\\n",
       "\\end{tabular}\n"
      ],
      "text/markdown": [
       "\n",
       "A tibble: 5 × 3\n",
       "\n",
       "| total_sessions &lt;dbl&gt; | total_playtime &lt;dbl&gt; | avg_session_length &lt;dbl&gt; |\n",
       "|---|---|---|\n",
       "|  0.3561844 | -7.220635764 | -6.59581791 |\n",
       "| -0.2245511 | -0.002835715 | -0.09525277 |\n",
       "| -0.2729457 | -0.002838010 | -0.09527062 |\n",
       "| -0.2729457 | -0.002837597 | -0.09526058 |\n",
       "| -0.2729457 | -0.002837973 | -0.09526973 |\n",
       "\n"
      ],
      "text/plain": [
       "  total_sessions total_playtime avg_session_length\n",
       "1  0.3561844     -7.220635764   -6.59581791       \n",
       "2 -0.2245511     -0.002835715   -0.09525277       \n",
       "3 -0.2729457     -0.002838010   -0.09527062       \n",
       "4 -0.2729457     -0.002837597   -0.09526058       \n",
       "5 -0.2729457     -0.002837973   -0.09526973       "
      ]
     },
     "metadata": {},
     "output_type": "display_data"
    }
   ],
   "source": [
    "activity_features <- player_profiles |>\n",
    "  select(total_sessions, total_playtime, avg_session_length) |>\n",
    "  drop_na()\n",
    "\n",
    "activity_features_scaled <- as_tibble(scale(activity_features))\n",
    "\n",
    "activity_features_scaled |> \n",
    "    slice_head(n = 5)"
   ]
  },
  {
   "cell_type": "code",
   "execution_count": 9,
   "id": "ef75b6cc-3da2-4285-814a-b42d973a65d2",
   "metadata": {},
   "outputs": [
    {
     "data": {
      "text/html": [
       "<table class=\"dataframe\">\n",
       "<caption>A tibble: 5 × 4</caption>\n",
       "<thead>\n",
       "\t<tr><th scope=col>total_sessions</th><th scope=col>total_playtime</th><th scope=col>avg_session_length</th><th scope=col>cluster</th></tr>\n",
       "\t<tr><th scope=col>&lt;dbl&gt;</th><th scope=col>&lt;dbl&gt;</th><th scope=col>&lt;dbl&gt;</th><th scope=col>&lt;fct&gt;</th></tr>\n",
       "</thead>\n",
       "<tbody>\n",
       "\t<tr><td> 0.3561844</td><td>-7.220635764</td><td>-6.59581791</td><td>2</td></tr>\n",
       "\t<tr><td>-0.2245511</td><td>-0.002835715</td><td>-0.09525277</td><td>1</td></tr>\n",
       "\t<tr><td>-0.2729457</td><td>-0.002838010</td><td>-0.09527062</td><td>1</td></tr>\n",
       "\t<tr><td>-0.2729457</td><td>-0.002837597</td><td>-0.09526058</td><td>1</td></tr>\n",
       "\t<tr><td>-0.2729457</td><td>-0.002837973</td><td>-0.09526973</td><td>1</td></tr>\n",
       "</tbody>\n",
       "</table>\n"
      ],
      "text/latex": [
       "A tibble: 5 × 4\n",
       "\\begin{tabular}{llll}\n",
       " total\\_sessions & total\\_playtime & avg\\_session\\_length & cluster\\\\\n",
       " <dbl> & <dbl> & <dbl> & <fct>\\\\\n",
       "\\hline\n",
       "\t  0.3561844 & -7.220635764 & -6.59581791 & 2\\\\\n",
       "\t -0.2245511 & -0.002835715 & -0.09525277 & 1\\\\\n",
       "\t -0.2729457 & -0.002838010 & -0.09527062 & 1\\\\\n",
       "\t -0.2729457 & -0.002837597 & -0.09526058 & 1\\\\\n",
       "\t -0.2729457 & -0.002837973 & -0.09526973 & 1\\\\\n",
       "\\end{tabular}\n"
      ],
      "text/markdown": [
       "\n",
       "A tibble: 5 × 4\n",
       "\n",
       "| total_sessions &lt;dbl&gt; | total_playtime &lt;dbl&gt; | avg_session_length &lt;dbl&gt; | cluster &lt;fct&gt; |\n",
       "|---|---|---|---|\n",
       "|  0.3561844 | -7.220635764 | -6.59581791 | 2 |\n",
       "| -0.2245511 | -0.002835715 | -0.09525277 | 1 |\n",
       "| -0.2729457 | -0.002838010 | -0.09527062 | 1 |\n",
       "| -0.2729457 | -0.002837597 | -0.09526058 | 1 |\n",
       "| -0.2729457 | -0.002837973 | -0.09526973 | 1 |\n",
       "\n"
      ],
      "text/plain": [
       "  total_sessions total_playtime avg_session_length cluster\n",
       "1  0.3561844     -7.220635764   -6.59581791        2      \n",
       "2 -0.2245511     -0.002835715   -0.09525277        1      \n",
       "3 -0.2729457     -0.002838010   -0.09527062        1      \n",
       "4 -0.2729457     -0.002837597   -0.09526058        1      \n",
       "5 -0.2729457     -0.002837973   -0.09526973        1      "
      ]
     },
     "metadata": {},
     "output_type": "display_data"
    }
   ],
   "source": [
    "# Set a seed for reproducibility so clustering results are consistent each time the code runs\n",
    "set.seed(123)\n",
    "# Run k-means clustering with 3 clusters (as an example)\n",
    "# Only cluster on the numeric, scaled features\n",
    "kmeans_model <- kmeans(activity_features_scaled, centers = 3)\n",
    "\n",
    "# Add the cluster assignments as a new column in the scaled feature table\n",
    "activity_features_scaled <- activity_features_scaled |>\n",
    "  mutate(cluster = as.factor(kmeans_model$cluster))\n",
    "\n",
    "# Show the first 5 rows to preview cluster assignments\n",
    "activity_features_scaled |> slice_head(n = 5)"
   ]
  },
  {
   "cell_type": "code",
   "execution_count": null,
   "id": "f958fc8d-24e7-4c85-9b4a-6d9cc08bd847",
   "metadata": {},
   "outputs": [],
   "source": []
  }
 ],
 "metadata": {
  "kernelspec": {
   "display_name": "R",
   "language": "R",
   "name": "ir"
  },
  "language_info": {
   "codemirror_mode": "r",
   "file_extension": ".r",
   "mimetype": "text/x-r-source",
   "name": "R",
   "pygments_lexer": "r",
   "version": "4.3.3"
  }
 },
 "nbformat": 4,
 "nbformat_minor": 5
}
